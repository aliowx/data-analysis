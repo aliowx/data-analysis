{
 "cells": [
  {
   "cell_type": "markdown",
   "metadata": {},
   "source": [
    "In this section, We wanna learn and test the Scipy package in the python\n",
    "as you know the Scipy package in Python is very important, Also it looks like the NumPy package\n",
    "this pack is about Scientific calculations, Algebraic equations, Image Processing, Optimization..."
   ]
  },
  {
   "cell_type": "markdown",
   "metadata": {},
   "source": [
    "Import:"
   ]
  },
  {
   "cell_type": "code",
   "execution_count": 1,
   "metadata": {},
   "outputs": [],
   "source": [
    "import numpy as np\n",
    "import pandas as pd\n",
    "import scipy as sc\n",
    "from scipy import special,optimize"
   ]
  },
  {
   "cell_type": "code",
   "execution_count": 2,
   "metadata": {},
   "outputs": [
    {
     "name": "stdout",
     "output_type": "stream",
     "text": [
      "(6.6446573357e-27, 'kg', 2e-36)\n"
     ]
    }
   ],
   "source": [
    "import scipy.constants \n",
    "res = scipy.constants.physical_constants['alpha particle mass']\n",
    "print(res)  "
   ]
  },
  {
   "cell_type": "markdown",
   "metadata": {},
   "source": [
    "K-means Algorithm:"
   ]
  },
  {
   "cell_type": "code",
   "execution_count": 3,
   "metadata": {},
   "outputs": [
    {
     "name": "stdout",
     "output_type": "stream",
     "text": [
      "[[0.94745987 2.03276404 1.33975121]\n",
      " [1.77691475 0.78474326 1.60023014]\n",
      " [2.71546218 2.62928628 2.78333   ]]\n",
      "[2 2 2 2 2 2 0 0 2 2 2 2 2 2 2 2 2 2 2 2 2 0 2 2 2 2 0 2 2 2 2 2 1 2 2 2 2\n",
      " 2 2 2 2 0 0 2 2 2 2 2 2 2 2 2 2 2 2 2 2 2 2 2 2 2 2 2 2 2 2 2 2 2 2 2 2 2\n",
      " 2 2 2 2 2 2 2 2 2 2 2 1 2 2 2 2 0 2 2 1 2 2 2 2 1 2 1 0 0 0 1 0 0 1 0 0 0\n",
      " 1 1 2 1 1 0 1 1 0 0 0 0 0 1 1 0 0 1 1 0 0 0 1 1 1 2 1 1 1 0 0 0 1 1 0 0 0\n",
      " 0 1 1 1 0 0 0 1 0 1 0 0 0 1 1 0 1 0 1 0 0 1 1 0 1 0 1 0 1 1 1 1 1 1 1 1 1\n",
      " 2 0 1 1 0 0 1 1 0 0 0 1 2 0 1]\n"
     ]
    }
   ],
   "source": [
    "from scipy.cluster.vq import vq,kmeans,whiten\n",
    "from numpy import vstack,array\n",
    "from numpy.random import rand\n",
    "#data generation with three features \n",
    "data = vstack((rand(100,3)+array([.5,.5,.5]),rand(100,3)))\n",
    "data = whiten(data)\n",
    "#We can create the three ways\n",
    "centrodis,_ = kmeans(data,3)\n",
    "print(centrodis)\n",
    "clx,_ = vq(data,centrodis)\n",
    "print(clx)"
   ]
  },
  {
   "cell_type": "markdown",
   "metadata": {},
   "source": [
    "Fourier transform:"
   ]
  },
  {
   "cell_type": "code",
   "execution_count": 4,
   "metadata": {},
   "outputs": [
    {
     "name": "stdout",
     "output_type": "stream",
     "text": [
      "[ 4.5       -0.j          2.08155948-1.65109876j -1.83155948+1.60822041j\n",
      " -1.83155948-1.60822041j  2.08155948+1.65109876j]\n"
     ]
    }
   ],
   "source": [
    "import numpy as np \n",
    "# import matplotlib.pyplot as plt\n",
    "from scipy.fftpack import fft\n",
    "#create an array with random n numbers\n",
    "x = np.array([1.0,2.0,1.0,-1.0,1.5])\n",
    "y = fft(x)\n",
    "# plt.scatter(y,x)\n",
    "print(y)"
   ]
  },
  {
   "cell_type": "markdown",
   "metadata": {},
   "source": [
    "Scipy in the python it was made by Blas and Atlaslapack and Abilities in the Linear Algebra"
   ]
  },
  {
   "cell_type": "code",
   "execution_count": 5,
   "metadata": {},
   "outputs": [
    {
     "name": "stdout",
     "output_type": "stream",
     "text": [
      "[-9.28  5.16  0.76]\n"
     ]
    }
   ],
   "source": [
    "from scipy import linalg\n",
    "import numpy as np \n",
    "a = np.array([[1,3,5],[2,5,1],[2,3,8]])\n",
    "b = np.array([10,8,3])\n",
    "x = linalg.solve(a,b)\n",
    "print(x)"
   ]
  },
  {
   "cell_type": "markdown",
   "metadata": {},
   "source": [
    "Determinal:"
   ]
  },
  {
   "cell_type": "code",
   "execution_count": 6,
   "metadata": {},
   "outputs": [
    {
     "name": "stdout",
     "output_type": "stream",
     "text": [
      "-2.0\n"
     ]
    }
   ],
   "source": [
    "from scipy import linalg\n",
    "import numpy as np\n",
    "a = np.array([[1,2],[3,4]])\n",
    "x = linalg.det(a)\n",
    "print(x)"
   ]
  },
  {
   "cell_type": "code",
   "execution_count": 7,
   "metadata": {},
   "outputs": [],
   "source": [
    "# from scipy import linalg \n",
    "# import numpy as np\n",
    "# a = np.array([[2,8,6],[4,1,3]])\n",
    "# #Passing the values to the eig function\n",
    "# l,v = linalg.eig(a)\n",
    "# #printing the result for eigen values\n",
    "# print(l)\n",
    "# #printing the result for eigen vectors\n",
    "# print(v)a"
   ]
  },
  {
   "cell_type": "markdown",
   "metadata": {},
   "source": [
    "Singular Value Decomposition: \"SVD\""
   ]
  },
  {
   "cell_type": "code",
   "execution_count": 8,
   "metadata": {},
   "outputs": [
    {
     "name": "stdout",
     "output_type": "stream",
     "text": [
      "[[-0.3839893 -0.46341569j -0.03382614-0.41335576j -0.47226536-0.49270311j]\n",
      " [-0.48216486-0.16560352j -0.02112978-0.48177852j  0.62925747+0.33402179j]\n",
      " [-0.5805914 -0.20200067j  0.253726  +0.72873789j  0.12452297-0.10567682j]] [1.88055421 0.66596586] [[-0.77370277+0.j         -0.54996932-0.31451195j]\n",
      " [ 0.63354875+0.j         -0.67163385-0.38408847j]]\n"
     ]
    }
   ],
   "source": [
    "from scipy import linalg\n",
    "import numpy as np \n",
    "a = np.random.rand(3,2)+1.j*np.random.rand(3,2)\n",
    "#passing the valuses to the wig funcation\n",
    "U,s,Vh = linalg.svd(a)\n",
    "print(U,s,Vh )"
   ]
  },
  {
   "cell_type": "markdown",
   "metadata": {},
   "source": [
    "Image Processing:"
   ]
  },
  {
   "cell_type": "code",
   "execution_count": 9,
   "metadata": {},
   "outputs": [],
   "source": [
    "# from PIL import Image\n",
    "# #load the image\n",
    "# image = Image.open('ship.png')"
   ]
  },
  {
   "cell_type": "code",
   "execution_count": null,
   "metadata": {},
   "outputs": [],
   "source": []
  }
 ],
 "metadata": {
  "kernelspec": {
   "display_name": "Python 3",
   "language": "python",
   "name": "python3"
  },
  "language_info": {
   "codemirror_mode": {
    "name": "ipython",
    "version": 3
   },
   "file_extension": ".py",
   "mimetype": "text/x-python",
   "name": "python",
   "nbconvert_exporter": "python",
   "pygments_lexer": "ipython3",
   "version": "3.12.0"
  }
 },
 "nbformat": 4,
 "nbformat_minor": 2
}

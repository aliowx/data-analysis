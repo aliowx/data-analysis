{
 "cells": [
  {
   "cell_type": "code",
   "execution_count": 36,
   "metadata": {},
   "outputs": [],
   "source": [
    "import numpy as np\n",
    "import matplotlib.pyplot as plt"
   ]
  },
  {
   "cell_type": "code",
   "execution_count": 37,
   "metadata": {},
   "outputs": [],
   "source": [
    "def create_refrence_solution(chromosme_length):\n",
    "    number_of_ones = int(chromosme_length / 2)\n",
    "    refrence = np.zeros(chromosme_length)\n",
    "    refrence[0 : number_of_ones] = 1\n",
    "    np.random.shuffle(refrence)\n",
    "    return refrence"
   ]
  },
  {
   "cell_type": "code",
   "execution_count": 38,
   "metadata": {},
   "outputs": [],
   "source": [
    "def creat_starting_population(individuals,chromosme_length):\n",
    "    poplulation = np.zeros((individuals,chromosme_length))\n",
    "    for i in range(individuals):\n",
    "        ones = np.random.randint(0,chromosme_length)\n",
    "        poplulation[i,0:ones] = 1\n",
    "        np.random.shuffle(poplulation)\n",
    "        return poplulation"
   ]
  },
  {
   "cell_type": "code",
   "execution_count": 39,
   "metadata": {},
   "outputs": [],
   "source": [
    "def calculate_fitness(refrence,population):\n",
    "    identical_to_refrence = population == refrence\n",
    "    fitness_score = identical_to_refrence.sum(axis=1)\n",
    "    return fitness_score"
   ]
  },
  {
   "cell_type": "code",
   "execution_count": 40,
   "metadata": {},
   "outputs": [],
   "source": [
    "def selct_individual_by_tournament(population,score):\n",
    "    population_size = len(score)\n",
    "    \n",
    "    fightr_1 = np.random.randint(0,population_size-1)\n",
    "    fightr_2 = np.random.randint(0,population_size-1)\n",
    "    \n",
    "    fighter_1 = score[fightr_1]\n",
    "    fighter_2 = score[fightr_2]\n",
    "    \n",
    "    if fighter_1 >= fighter_2:\n",
    "        winner = fightr_1\n",
    "    else:\n",
    "        winner = fightr_2\n",
    "        \n",
    "    return population[winner,:]"
   ]
  },
  {
   "cell_type": "code",
   "execution_count": 41,
   "metadata": {},
   "outputs": [],
   "source": [
    "def breed_by_crossover(parent1,parent2):\n",
    "    chromosome_length = len(parent1)\n",
    "    crossover_point = np.random.randint(1,chromosome_length-1)\n",
    "    child_1 = np.hstack((parent1[0:crossover_point],\n",
    "                         parent2[crossover_point:]))\n",
    "    \n",
    "    child_2 = np.hstack((parent2[0:crossover_point],\n",
    "                         parent1[crossover_point:]))\n",
    "    \n",
    "    \n",
    "    return child_1,child_2\n",
    "    \n",
    "      "
   ]
  },
  {
   "cell_type": "code",
   "execution_count": 45,
   "metadata": {},
   "outputs": [],
   "source": [
    "import numpy as np\n",
    "\n",
    "def randomly_mutate_population(population, mutation_probability):\n",
    "    # Ensure population is a numpy array\n",
    "    population = np.array(population)\n",
    "    \n",
    "    # Generate an array of random numbers with the same shape as the population\n",
    "    random_mutation_arry = np.random.random(size=population.shape)\n",
    "    \n",
    "    # Create a boolean array where True indicates the positions to mutate\n",
    "    random_mutation_boolean = random_mutation_arry <= mutation_probability\n",
    "    \n",
    "    # Perform the mutation by flipping the bits at the selected positions\n",
    "    population[random_mutation_boolean] = np.logical_not(population[random_mutation_boolean])\n",
    "    \n",
    "    return population\n"
   ]
  },
  {
   "cell_type": "code",
   "execution_count": 46,
   "metadata": {},
   "outputs": [
    {
     "name": "stdout",
     "output_type": "stream",
     "text": [
      "Stating best score , %target:  50.66666666666667\n",
      "End best score %target: 100.0\n"
     ]
    },
    {
     "data": {
      "text/plain": [
       "Text(0, 0.5, 'Best sscore (% target)')"
      ]
     },
     "execution_count": 46,
     "metadata": {},
     "output_type": "execute_result"
    },
    {
     "data": {
      "image/png": "[encoded data removed]",
      "text/plain": [
       "<Figure size 640x480 with 1 Axes>"
      ]
     },
     "metadata": {},
     "output_type": "display_data"
    }
   ],
   "source": [
    "chromosome_length = 75\n",
    "popluation_size = 500\n",
    "maximum_generation = 200\n",
    "best_score_progress = []\n",
    "\n",
    "refrence = create_refrence_solution(chromosome_length)\n",
    "popluation = creat_starting_population(popluation_size,chromosome_length)\n",
    "\n",
    "score = calculate_fitness(refrence,popluation)\n",
    "best_score = np.max(score)/chromosome_length*100\n",
    "print('Stating best score , %target: ' ,best_score )\n",
    "\n",
    "\n",
    "best_score_progress.append(best_score)\n",
    "\n",
    "for generation in range(maximum_generation):\n",
    "    new_population = []\n",
    "    \n",
    "    \n",
    "    for i in range(int(popluation_size/2)):\n",
    "        parent_1 = selct_individual_by_tournament(popluation,score)\n",
    "        parent_2 = selct_individual_by_tournament(popluation,score)\n",
    "        child_1,child_2 = breed_by_crossover(parent_1,parent_2)\n",
    "        new_population.append(child_1)\n",
    "        new_population.append(child_2)\n",
    "        popluation = np.array(new_population)\n",
    "        mutation_rate = 0.002 \n",
    "        popluation = randomly_mutate_population(popluation,mutation_rate)\n",
    "        score = calculate_fitness(refrence,popluation)\n",
    "        best_score = np.max(score)/chromosome_length*100\n",
    "        best_score_progress.append(best_score)\n",
    "        \n",
    "print('End best score %target:',best_score)\n",
    "plt.plot(best_score_progress)\n",
    "plt.xlabel('Generation')\n",
    "plt.ylabel('Best sscore (% target)') \n",
    "\n"
   ]
  },
  {
   "cell_type": "code",
   "execution_count": null,
   "metadata": {},
   "outputs": [],
   "source": []
  }
 ],
 "metadata": {
  "kernelspec": {
   "display_name": "Python 3",
   "language": "python",
   "name": "python3"
  },
  "language_info": {
   "codemirror_mode": {
    "name": "ipython",
    "version": 3
   },
   "file_extension": ".py",
   "mimetype": "text/x-python",
   "name": "python",
   "nbconvert_exporter": "python",
   "pygments_lexer": "ipython3",
   "version": "3.12.0"
  }
 },
 "nbformat": 4,
 "nbformat_minor": 2
}

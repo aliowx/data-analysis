{
 "cells": [
  {
   "cell_type": "code",
   "execution_count": 6,
   "id": "248db1d7",
   "metadata": {},
   "outputs": [
    {
     "name": "stdout",
     "output_type": "stream",
     "text": [
      "10    b'a'\n",
      "11    b'b'\n",
      "12    b'c'\n",
      "13    b'd'\n",
      "dtype: bytes8\n"
     ]
    }
   ],
   "source": [
    "#82\n",
    "import numpy as np\n",
    "import pandas as pd\n",
    "\n",
    "data=np.array(['a','b','c','d'])\n",
    "s=pd.Series(data,index=[10,11,12,13],dtype='S',copy=True)\n",
    "print(s)\n"
   ]
  },
  {
   "cell_type": "code",
   "execution_count": 10,
   "id": "10c56eee",
   "metadata": {},
   "outputs": [
    {
     "name": "stdout",
     "output_type": "stream",
     "text": [
      "python\n"
     ]
    }
   ],
   "source": [
    "#83-1\n",
    "data=np.array(['python','c','java','matlab'])\n",
    "s=pd.Series(data,index=['a','b','c','d'])\n",
    "print(s)\n"
   ]
  },
  {
   "cell_type": "code",
   "execution_count": 8,
   "id": "fecf03ca",
   "metadata": {},
   "outputs": [
    {
     "name": "stdout",
     "output_type": "stream",
     "text": [
      "a    0\n",
      "b    1\n",
      "c    2\n",
      "dtype: int64\n"
     ]
    }
   ],
   "source": [
    "#83-2\n",
    "data={'a':0,'b':1,'c':2}\n",
    "s=pd.Series(data)\n",
    "print(s)"
   ]
  },
  {
   "cell_type": "code",
   "execution_count": 13,
   "id": "b53d22c4",
   "metadata": {},
   "outputs": [
    {
     "name": "stdout",
     "output_type": "stream",
     "text": [
      "the first item is : python\n",
      "item from start to before end are:\n",
      " 1         c\n",
      "3    matlab\n",
      "dtype: object\n",
      "0          python\n",
      "1               c\n",
      "2            java\n",
      "3          matlab\n",
      "4          pascal\n",
      "5    visual basic\n",
      "dtype: object\n"
     ]
    }
   ],
   "source": [
    "#84-1\n",
    "data=np.array(['python','c','java','matlab','pascal','visual basic'])\n",
    "s=pd.Series(data)\n",
    "print(\"the first item is :\",s[0])\n",
    "print(\"item from start to before end are:\\n\",s[1:5:2])\n",
    "print(s[:])"
   ]
  },
  {
   "cell_type": "code",
   "execution_count": 16,
   "id": "1c041c21",
   "metadata": {},
   "outputs": [
    {
     "name": "stdout",
     "output_type": "stream",
     "text": [
      "items from start to end are:\n",
      " 3          matlab\n",
      "4          pascal\n",
      "5    visual basic\n",
      "dtype: object\n",
      "items from start to end are:\n",
      " 1         c\n",
      "3    matlab\n",
      "dtype: object\n"
     ]
    }
   ],
   "source": [
    "#84-2\n",
    "data=np.array(['python','c','java','matlab','pascal','visual basic'])\n",
    "s=pd.Series(data)\n",
    "print(\"items from start to end are:\\n\",s.loc[3:5])\n",
    "print(\"items from start to end are:\\n\",s.iloc[1:5:2])"
   ]
  },
  {
   "cell_type": "code",
   "execution_count": 17,
   "id": "dab9e4ed",
   "metadata": {},
   "outputs": [
    {
     "name": "stdout",
     "output_type": "stream",
     "text": [
      "['python' 'c' 'java' 'matlab' 'pascal' 'visual basic']\n"
     ]
    }
   ],
   "source": [
    "print(s.values)"
   ]
  },
  {
   "cell_type": "code",
   "execution_count": 18,
   "id": "fecfaf15",
   "metadata": {},
   "outputs": [
    {
     "name": "stdout",
     "output_type": "stream",
     "text": [
      "RangeIndex(start=0, stop=6, step=1)\n"
     ]
    }
   ],
   "source": [
    "print(s.index)"
   ]
  },
  {
   "cell_type": "code",
   "execution_count": 19,
   "id": "ba91bbb1",
   "metadata": {},
   "outputs": [
    {
     "name": "stdout",
     "output_type": "stream",
     "text": [
      "view the top item:\n",
      " 0    10\n",
      "1    12\n",
      "2    14\n",
      "3    16\n",
      "4    18\n",
      "dtype: int32\n",
      "view the bottom item:\n",
      " 13    36\n",
      "14    38\n",
      "15    40\n",
      "dtype: int32\n"
     ]
    }
   ],
   "source": [
    "#86\n",
    "data=np.array(range(10,41,2))\n",
    "s=pd.Series((data))\n",
    "print(\"view the top item:\\n\",s.head(5))\n",
    "print(\"view the bottom item:\\n\",s.tail(3))"
   ]
  },
  {
   "cell_type": "code",
   "execution_count": 22,
   "id": "6664c518",
   "metadata": {},
   "outputs": [
    {
     "name": "stdout",
     "output_type": "stream",
     "text": [
      "df1\n",
      " 0    0\n",
      "1    2\n",
      "2    4\n",
      "3    6\n",
      "4    8\n",
      "dtype: int32\n",
      "df2\n",
      " 0    1\n",
      "1    3\n",
      "2    5\n",
      "3    7\n",
      "4    9\n",
      "dtype: int32\n",
      "df1+df2:\n",
      " 0     1\n",
      "1     5\n",
      "2     9\n",
      "3    13\n",
      "4    17\n",
      "dtype: int32\n",
      "df1*3:\n",
      " 0     0\n",
      "1     6\n",
      "2    12\n",
      "3    18\n",
      "4    24\n",
      "dtype: int32\n",
      "df2**2:\n",
      " 0     1\n",
      "1     9\n",
      "2    25\n",
      "3    49\n",
      "4    81\n",
      "dtype: int32\n",
      "0    False\n",
      "1    False\n",
      "2    False\n",
      "3    False\n",
      "4    False\n",
      "dtype: bool\n"
     ]
    }
   ],
   "source": [
    "#87\n",
    "data=np.array(range(0,10,2))\n",
    "data1=np.array(range(1,10,2))\n",
    "df1=pd.Series(data)\n",
    "df2=pd.Series(data1)\n",
    "print(\"df1\\n\",df1)\n",
    "print(\"df2\\n\",df2)\n",
    "\n",
    "print(\"df1+df2:\\n\",df1+df2)\n",
    "print(\"df1*3:\\n\",df1*3)\n",
    "print(\"df2**2:\\n\",df2**2)\n",
    "print(df1==df2)\n",
    "\n",
    "\n",
    "\n",
    "\n",
    "\n"
   ]
  },
  {
   "cell_type": "code",
   "execution_count": 23,
   "id": "971fc999",
   "metadata": {},
   "outputs": [
    {
     "data": {
      "text/plain": [
       "<PandasArray>\n",
       "[1, 2, 3]\n",
       "Length: 3, dtype: int64"
      ]
     },
     "execution_count": 23,
     "metadata": {},
     "output_type": "execute_result"
    }
   ],
   "source": [
    "#89-1\n",
    "pd.Series([1,2,3]).array"
   ]
  },
  {
   "cell_type": "code",
   "execution_count": 25,
   "id": "b42ef283",
   "metadata": {},
   "outputs": [
    {
     "data": {
      "text/plain": [
       "20"
      ]
     },
     "execution_count": 25,
     "metadata": {},
     "output_type": "execute_result"
    }
   ],
   "source": [
    "#89-2\n",
    "data=12,14,16,18,20\n",
    "s=pd.Series(data)\n",
    "s.at[4]"
   ]
  },
  {
   "cell_type": "code",
   "execution_count": 26,
   "id": "f30262ee",
   "metadata": {},
   "outputs": [
    {
     "data": {
      "text/plain": [
       "dtype('int64')"
      ]
     },
     "execution_count": 26,
     "metadata": {},
     "output_type": "execute_result"
    }
   ],
   "source": [
    "#89-3\n",
    "s.dtype\n"
   ]
  },
  {
   "cell_type": "code",
   "execution_count": 27,
   "id": "dc3a57e4",
   "metadata": {},
   "outputs": [
    {
     "data": {
      "text/plain": [
       "False"
      ]
     },
     "execution_count": 27,
     "metadata": {},
     "output_type": "execute_result"
    }
   ],
   "source": [
    "s.hasnans"
   ]
  },
  {
   "cell_type": "code",
   "execution_count": 28,
   "id": "fbd31df2",
   "metadata": {},
   "outputs": [
    {
     "data": {
      "text/plain": [
       "RangeIndex(start=0, stop=5, step=1)"
      ]
     },
     "execution_count": 28,
     "metadata": {},
     "output_type": "execute_result"
    }
   ],
   "source": [
    "s.index"
   ]
  },
  {
   "cell_type": "code",
   "execution_count": 29,
   "id": "0703cf7c",
   "metadata": {},
   "outputs": [
    {
     "name": "stderr",
     "output_type": "stream",
     "text": [
      "C:\\Users\\Ara-Soft\\AppData\\Local\\Temp\\ipykernel_11052\\3952076332.py:1: FutureWarning: is_monotonic is deprecated and will be removed in a future version. Use is_monotonic_increasing instead.\n",
      "  s.is_monotonic\n"
     ]
    },
    {
     "data": {
      "text/plain": [
       "True"
      ]
     },
     "execution_count": 29,
     "metadata": {},
     "output_type": "execute_result"
    }
   ],
   "source": [
    "s.is_monotonic"
   ]
  },
  {
   "cell_type": "code",
   "execution_count": 31,
   "id": "29e45924",
   "metadata": {},
   "outputs": [
    {
     "data": {
      "text/plain": [
       "False"
      ]
     },
     "execution_count": 31,
     "metadata": {},
     "output_type": "execute_result"
    }
   ],
   "source": [
    "s.is_monotonic_decreasing"
   ]
  },
  {
   "cell_type": "code",
   "execution_count": 32,
   "id": "c24caf3a",
   "metadata": {},
   "outputs": [
    {
     "data": {
      "text/plain": [
       "True"
      ]
     },
     "execution_count": 32,
     "metadata": {},
     "output_type": "execute_result"
    }
   ],
   "source": [
    "s.is_unique"
   ]
  },
  {
   "cell_type": "code",
   "execution_count": 33,
   "id": "c4535590",
   "metadata": {},
   "outputs": [
    {
     "data": {
      "text/plain": [
       "40"
      ]
     },
     "execution_count": 33,
     "metadata": {},
     "output_type": "execute_result"
    }
   ],
   "source": [
    "s.nbytes"
   ]
  },
  {
   "cell_type": "code",
   "execution_count": 34,
   "id": "05420ef8",
   "metadata": {},
   "outputs": [
    {
     "data": {
      "text/plain": [
       "1"
      ]
     },
     "execution_count": 34,
     "metadata": {},
     "output_type": "execute_result"
    }
   ],
   "source": [
    "s.ndim"
   ]
  },
  {
   "cell_type": "code",
   "execution_count": 35,
   "id": "6cc34306",
   "metadata": {},
   "outputs": [
    {
     "data": {
      "text/plain": [
       "(5,)"
      ]
     },
     "execution_count": 35,
     "metadata": {},
     "output_type": "execute_result"
    }
   ],
   "source": [
    "s.shape"
   ]
  },
  {
   "cell_type": "code",
   "execution_count": 36,
   "id": "fb1a40f7",
   "metadata": {},
   "outputs": [
    {
     "data": {
      "text/plain": [
       "5"
      ]
     },
     "execution_count": 36,
     "metadata": {},
     "output_type": "execute_result"
    }
   ],
   "source": [
    "s.size"
   ]
  },
  {
   "cell_type": "code",
   "execution_count": 37,
   "id": "ffc7d3d9",
   "metadata": {},
   "outputs": [
    {
     "data": {
      "text/plain": [
       "array([12, 14, 16, 18, 20], dtype=int64)"
      ]
     },
     "execution_count": 37,
     "metadata": {},
     "output_type": "execute_result"
    }
   ],
   "source": [
    "s.values"
   ]
  },
  {
   "cell_type": "code",
   "execution_count": 1,
   "id": "bda231ca",
   "metadata": {},
   "outputs": [
    {
     "name": "stdout",
     "output_type": "stream",
     "text": [
      "series1: \n",
      "0     2\n",
      "1     4\n",
      "2     6\n",
      "3     8\n",
      "4    10\n",
      "dtype: int64\n",
      "series2: \n",
      "0     1\n",
      "1     3\n",
      "2     5\n",
      "3     7\n",
      "4    10\n",
      "dtype: int64\n",
      "compare the elements of said series:\n",
      "equals:\n",
      "0    False\n",
      "1    False\n",
      "2    False\n",
      "3    False\n",
      "4     True\n",
      "dtype: bool\n",
      "greater than:\n",
      "0     True\n",
      "1     True\n",
      "2     True\n",
      "3     True\n",
      "4    False\n",
      "dtype: bool\n",
      "less than:\n",
      "0    False\n",
      "1    False\n",
      "2    False\n",
      "3    False\n",
      "4    False\n",
      "dtype: bool\n"
     ]
    }
   ],
   "source": [
    "#96\n",
    "import pandas as pd\n",
    "ds1=pd.Series([2,4,6,8,10])\n",
    "ds2=pd.Series([1,3,5,7,10])\n",
    "print(\"series1: \")\n",
    "print(ds1)\n",
    "print(\"series2: \")\n",
    "print(ds2)\n",
    "print(\"compare the elements of said series:\")\n",
    "print(\"equals:\")\n",
    "print(ds1==ds2)\n",
    "print(\"greater than:\")\n",
    "print(ds1>ds2)\n",
    "print(\"less than:\")\n",
    "print(ds1<ds2)\n"
   ]
  },
  {
   "cell_type": "code",
   "execution_count": 3,
   "id": "e8bd691c",
   "metadata": {},
   "outputs": [
    {
     "name": "stdout",
     "output_type": "stream",
     "text": [
      "0        100\n",
      "1        200\n",
      "3     300.12\n",
      "4        400\n",
      "2    paython\n",
      "dtype: object\n"
     ]
    }
   ],
   "source": [
    "#97\n",
    "import pandas as pd\n",
    "s=pd.Series(['100','200','paython','300.12','400'])\n",
    "new_s=pd.Series(s).sort_values()\n",
    "print(new_s)"
   ]
  },
  {
   "cell_type": "code",
   "execution_count": 5,
   "id": "9d356e0e",
   "metadata": {},
   "outputs": [
    {
     "name": "stdout",
     "output_type": "stream",
     "text": [
      "original series: \n",
      "sr1:\n",
      " 0    1\n",
      "1    2\n",
      "2    3\n",
      "3    4\n",
      "4    5\n",
      "dtype: int64\n",
      "sr2\n",
      " 0     2\n",
      "1     4\n",
      "2     6\n",
      "3     8\n",
      "4    10\n",
      "dtype: int64\n",
      "item of sr1 not present in sr2:\n",
      "0    1\n",
      "2    3\n",
      "4    5\n",
      "dtype: int64\n"
     ]
    }
   ],
   "source": [
    "#98\n",
    "import pandas as pd\n",
    "sr1=pd.Series([1,2,3,4,5])\n",
    "sr2=pd.Series([2,4,6,8,10])\n",
    "print(\"original series: \")\n",
    "print(\"sr1:\\n\",sr1)\n",
    "print(\"sr2\\n\",sr2)\n",
    "print(\"item of sr1 not present in sr2:\")\n",
    "result=sr1[~sr1.isin(sr2)]\n",
    "print(result)"
   ]
  },
  {
   "cell_type": "code",
   "execution_count": 10,
   "id": "6ac70f5d",
   "metadata": {},
   "outputs": [
    {
     "name": "stdout",
     "output_type": "stream",
     "text": [
      "original series:\n",
      "0    1\n",
      "1    2\n",
      "2    8\n",
      "3    7\n",
      "4    3\n",
      "dtype: object\n",
      "frequency of each unique value of the said series :\n",
      "1    1\n",
      "2    1\n",
      "8    1\n",
      "7    1\n",
      "3    1\n",
      "dtype: int64\n"
     ]
    }
   ],
   "source": [
    "#99-1\n",
    "import pandas as pd\n",
    "import numpy as np\n",
    "\n",
    "num_series=pd.Series(np.take(list('0123456789'),np.random.randint(10,size=5)))\n",
    "print(\"original series:\")\n",
    "print(num_series)\n",
    "print(\"frequency of each unique value of the said series :\")\n",
    "result=num_series.value_counts()\n",
    "print(result)"
   ]
  },
  {
   "cell_type": "code",
   "execution_count": 12,
   "id": "e83fc9f7",
   "metadata": {},
   "outputs": [
    {
     "name": "stdout",
     "output_type": "stream",
     "text": [
      "0       PhP\n",
      "1    PythoN\n",
      "2      JavA\n",
      "3        C#\n",
      "dtype: object\n"
     ]
    }
   ],
   "source": [
    "#99-2\n",
    "import pandas as pd\n",
    "series1=pd.Series(['php','python','java','c#'])\n",
    "result=series1.map(lambda x:x[0].upper() + x[1:-1] +x[-1].upper())\n",
    "print(result)"
   ]
  },
  {
   "cell_type": "code",
   "execution_count": 15,
   "id": "433577c0",
   "metadata": {},
   "outputs": [
    {
     "name": "stdout",
     "output_type": "stream",
     "text": [
      "series1:\n",
      " 0       php\n",
      "1    python\n",
      "2      java\n",
      "3        c#\n",
      "dtype: object\n",
      "0    3\n",
      "1    6\n",
      "2    4\n",
      "3    2\n",
      "dtype: int64\n"
     ]
    }
   ],
   "source": [
    "#100-1\n",
    "series1=pd.Series(['php','python','java','c#'])\n",
    "print(\"series1:\\n\",series1)\n",
    "result=series1.map(lambda x:len(x))\n",
    "print(result)"
   ]
  },
  {
   "cell_type": "code",
   "execution_count": 17,
   "id": "31d829cf",
   "metadata": {},
   "outputs": [
    {
     "name": "stdout",
     "output_type": "stream",
     "text": [
      "date series\n",
      " 0         01 Jan 2015\n",
      "1          10-02-2016\n",
      "2            20180307\n",
      "3          2014/05/06\n",
      "4          2016-04-12\n",
      "5    2019-04-06T11:20\n",
      "dtype: object\n",
      "0   2015-01-01 00:00:00\n",
      "1   2016-10-02 00:00:00\n",
      "2   2018-03-07 00:00:00\n",
      "3   2014-05-06 00:00:00\n",
      "4   2016-04-12 00:00:00\n",
      "5   2019-04-06 11:20:00\n",
      "dtype: datetime64[ns]\n"
     ]
    }
   ],
   "source": [
    "#100-2\n",
    "date_series=pd.Series(['01 Jan 2015','10-02-2016','20180307','2014/05/06','2016-04-12','2019-04-06T11:20'])\n",
    "print(\"date series\\n\",date_series)\n",
    "print(pd.to_datetime(date_series))\n",
    "\n",
    "\n"
   ]
  },
  {
   "cell_type": "code",
   "execution_count": 20,
   "id": "a0c207df",
   "metadata": {},
   "outputs": [
    {
     "name": "stdout",
     "output_type": "stream",
     "text": [
      "date series\n",
      " 0         01 Jan 2015\n",
      "1          10-02-2016\n",
      "2            20180307\n",
      "3          2014/05/06\n",
      "4          2016-04-12\n",
      "5    2019-04-06T11:20\n",
      "dtype: object\n",
      "day of month  [1, 2, 7, 6, 12, 6]\n",
      "day of year  [1, 276, 66, 126, 103, 96]\n",
      "week num  [1, 39, 10, 19, 15, 14]\n",
      " day of week  ['Thursday', 'Sunday', 'Wednesday', 'Tuesday', 'Tuesday', 'Saturday']\n"
     ]
    },
    {
     "name": "stderr",
     "output_type": "stream",
     "text": [
      "C:\\Users\\Ara-Soft\\AppData\\Local\\Temp\\ipykernel_5424\\999484392.py:15: FutureWarning: Series.dt.weekofyear and Series.dt.week have been deprecated. Please use Series.dt.isocalendar().week instead.\n",
      "  print(\"week num \",date_series.dt.weekofyear.tolist())\n"
     ]
    }
   ],
   "source": [
    "#101\n",
    "\n",
    "import pandas as pd\n",
    "from dateutil.parser import parse\n",
    "\n",
    "date_series=pd.Series(['01 Jan 2015','10-02-2016','20180307','2014/05/06','2016-04-12','2019-04-06T11:20'])\n",
    "print(\"date series\\n\",date_series)\n",
    "\n",
    "\n",
    "date_series=date_series.map(lambda x:parse(x))\n",
    "print(\"day of month \",date_series.dt.day.tolist())\n",
    "\n",
    "print(\"day of year \",date_series.dt.dayofyear.tolist())\n",
    "\n",
    "print(\"week num \",date_series.dt.weekofyear.tolist())\n",
    "\n",
    "print(\" day of week \",date_series.dt.day_name().tolist())\n"
   ]
  },
  {
   "cell_type": "code",
   "execution_count": 25,
   "id": "9a872c56",
   "metadata": {},
   "outputs": [
    {
     "name": "stdout",
     "output_type": "stream",
     "text": [
      "0    2020-01-05\n",
      "1    2020-01-12\n",
      "2    2020-01-19\n",
      "3    2020-01-26\n",
      "4    2020-02-02\n",
      "5    2020-02-09\n",
      "6    2020-02-16\n",
      "7    2020-02-23\n",
      "8    2020-03-01\n",
      "9    2020-03-08\n",
      "10   2020-03-15\n",
      "11   2020-03-22\n",
      "12   2020-03-29\n",
      "13   2020-04-05\n",
      "14   2020-04-12\n",
      "15   2020-04-19\n",
      "16   2020-04-26\n",
      "17   2020-05-03\n",
      "18   2020-05-10\n",
      "19   2020-05-17\n",
      "20   2020-05-24\n",
      "21   2020-05-31\n",
      "22   2020-06-07\n",
      "23   2020-06-14\n",
      "24   2020-06-21\n",
      "25   2020-06-28\n",
      "26   2020-07-05\n",
      "27   2020-07-12\n",
      "28   2020-07-19\n",
      "29   2020-07-26\n",
      "30   2020-08-02\n",
      "31   2020-08-09\n",
      "32   2020-08-16\n",
      "33   2020-08-23\n",
      "34   2020-08-30\n",
      "35   2020-09-06\n",
      "36   2020-09-13\n",
      "37   2020-09-20\n",
      "38   2020-09-27\n",
      "39   2020-10-04\n",
      "40   2020-10-11\n",
      "41   2020-10-18\n",
      "42   2020-10-25\n",
      "43   2020-11-01\n",
      "44   2020-11-08\n",
      "45   2020-11-15\n",
      "46   2020-11-22\n",
      "47   2020-11-29\n",
      "48   2020-12-06\n",
      "49   2020-12-13\n",
      "50   2020-12-20\n",
      "51   2020-12-27\n",
      "dtype: datetime64[ns]\n"
     ]
    }
   ],
   "source": [
    "#102-1\n",
    "result=pd.Series(pd.date_range('2020-01-01',periods=52,freq='W-SUN'))\n",
    "print(result)"
   ]
  },
  {
   "cell_type": "code",
   "execution_count": 27,
   "id": "40f4bd52",
   "metadata": {},
   "outputs": [
    {
     "name": "stdout",
     "output_type": "stream",
     "text": [
      "original series:\n",
      " 0     1\n",
      "1     3\n",
      "2    88\n",
      "3    23\n",
      "4     3\n",
      "5     1\n",
      "6     9\n",
      "7     0\n",
      "dtype: int64\n",
      "index max:   2\n",
      "index min:   7\n"
     ]
    }
   ],
   "source": [
    "#102-2\n",
    "nums=pd.Series([1,3,88,23,3,1,9,0])\n",
    "print(\"original series:\\n\",nums)\n",
    "print(\"index max:  \",nums.idxmax())\n",
    "print(\"index min:  \",nums.idxmin())"
   ]
  },
  {
   "cell_type": "code",
   "execution_count": 30,
   "id": "3ef13f98",
   "metadata": {},
   "outputs": [
    {
     "name": "stdout",
     "output_type": "stream",
     "text": [
      "     Drinks menu  prices\n",
      "A  mineral water   10000\n",
      "B    fruit juice   25000\n",
      "C           milk   27000\n",
      "D          cofee   30000\n",
      "F           cola   35000\n"
     ]
    }
   ],
   "source": [
    "#103\n",
    "\n",
    "drinks={'Drinks menu':['mineral water','fruit juice','milk','cofee','cola'],'prices':[10000,25000,27000,30000,35000]}\n",
    "dm=pd.DataFrame(drinks,columns=['Drinks menu','prices'],index=['A','B','C','D','F'])\n",
    "print(dm)"
   ]
  },
  {
   "cell_type": "code",
   "execution_count": 32,
   "id": "e010f853",
   "metadata": {},
   "outputs": [
    {
     "name": "stdout",
     "output_type": "stream",
     "text": [
      "   Name  Grade\n",
      "0   tom     20\n",
      "1  nick     25\n",
      "2   joe     19\n",
      "3  jack     16\n"
     ]
    }
   ],
   "source": [
    "#104\n",
    "data={'Name':['tom','nick','joe','jack'],'Grade':[20,25,19,16]}\n",
    "df=pd.DataFrame(data,columns=['Name','Grade'])\n",
    "print(df)"
   ]
  },
  {
   "cell_type": "code",
   "execution_count": 34,
   "id": "137c31b0",
   "metadata": {},
   "outputs": [
    {
     "name": "stdout",
     "output_type": "stream",
     "text": [
      "Grade column is:\n",
      " 0    20\n",
      "1    25\n",
      "2    19\n",
      "3    16\n",
      "Name: Grade, dtype: int64\n",
      "second row is:\n",
      " Name     nick\n",
      "Grade      25\n",
      "Name: 1, dtype: object\n"
     ]
    }
   ],
   "source": [
    "#106\n",
    "\n",
    "data={'Name':['tom','nick','joe','jack'],'Grade':[20,25,19,16]}\n",
    "df=pd.DataFrame(data,columns=['Name','Grade'])\n",
    "print(\"Grade column is:\\n\",df['Grade'])\n",
    "print(\"second row is:\\n\",df.loc[1])"
   ]
  },
  {
   "cell_type": "code",
   "execution_count": 39,
   "id": "ae39cdb2",
   "metadata": {},
   "outputs": [
    {
     "name": "stdout",
     "output_type": "stream",
     "text": [
      "  Name  Grade\n",
      "2  joe     19\n"
     ]
    }
   ],
   "source": [
    "#107\n",
    "\n",
    "data={'Name':['tom','nick','joe','jack'],'Grade':[20,25,19,16]}\n",
    "df=pd.DataFrame(data,columns=['Name','Grade'])\n",
    "print(df.loc[2:2])"
   ]
  },
  {
   "cell_type": "code",
   "execution_count": 41,
   "id": "3d567394",
   "metadata": {},
   "outputs": [
    {
     "name": "stdout",
     "output_type": "stream",
     "text": [
      "the first 2 rows :\n",
      "    Name  Grade\n",
      "0   tom     20\n",
      "1  nick     25\n",
      "the last 2 rows:\n",
      "    Name  Grade\n",
      "2   joe     19\n",
      "3  jack     16\n"
     ]
    }
   ],
   "source": [
    "#107-2\n",
    "\n",
    "data={'Name':['tom','nick','joe','jack'],'Grade':[20,25,19,16]}\n",
    "df=pd.DataFrame(data,columns=['Name','Grade'])\n",
    "print(\"the first 2 rows :\\n\",df.head(2))\n",
    "print(\"the last 2 rows:\\n\",df.tail(2))"
   ]
  },
  {
   "cell_type": "code",
   "execution_count": 43,
   "id": "8388333b",
   "metadata": {},
   "outputs": [
    {
     "name": "stdout",
     "output_type": "stream",
     "text": [
      "0     True\n",
      "1     True\n",
      "2     True\n",
      "3    False\n",
      "Name: Grade, dtype: bool\n"
     ]
    }
   ],
   "source": [
    "#108\n",
    "data={'Name':['tom','nick','joe','jack'],'Grade':[20,25,19,16]}\n",
    "df=pd.DataFrame(data,columns=['Name','Grade'])\n",
    "print(df['Grade']>=19)"
   ]
  },
  {
   "cell_type": "code",
   "execution_count": 45,
   "id": "622b6fbc",
   "metadata": {},
   "outputs": [
    {
     "name": "stdout",
     "output_type": "stream",
     "text": [
      "   Name  Grade\n",
      "2   joe     19\n",
      "3  jack     16\n"
     ]
    }
   ],
   "source": [
    "#108-2\n",
    "data={'Name':['tom','nick','joe','jack'],'Grade':[20,25,19,16]}\n",
    "df=pd.DataFrame(data,columns=['Name','Grade'])\n",
    "print(df[df.index>=2])\n"
   ]
  },
  {
   "cell_type": "code",
   "execution_count": 51,
   "id": "411183bc",
   "metadata": {},
   "outputs": [
    {
     "name": "stdout",
     "output_type": "stream",
     "text": [
      "  name  score  attemps qualify\n",
      "a    A   12.5        1     yes\n",
      "b    B    9.0        3      no\n",
      "c    C   16.5        2     yes\n",
      "d    D    NaN        3      no\n",
      "e    E    9.0        2      no\n",
      "f    F   20.0        3     yes\n",
      "g    G   14.5        1     yes\n",
      "h    H    NaN        1      no\n",
      "i    I    8.0        2      no\n",
      "j    J   19.0        1     yes\n",
      "num of rows: 10\n",
      "num of columns: 4\n"
     ]
    }
   ],
   "source": [
    "#110\n",
    "import numpy as np\n",
    "import pandas as pd\n",
    "\n",
    "exam_data={'name':['A','B','C','D','E','F','G','H','I','J'],\n",
    "          'score':[12.5,9,16.5,np.nan,9,20,14.5,np.nan,8,19],\n",
    "           'attemps':[1,3,2,3,2,3,1,1,2,1],\n",
    "          'qualify':['yes','no','yes','no','no','yes','yes','no','no','yes']}\n",
    "lables=['a','b','c','d','e','f','g','h','i','j']\n",
    "\n",
    "df=pd.DataFrame(exam_data,index=lables)\n",
    "print(df)\n",
    "print(\"num of rows:\",len(df.axes[0])) \n",
    "print(\"num of columns:\",len(df.axes[1]))"
   ]
  },
  {
   "cell_type": "code",
   "execution_count": 53,
   "id": "5306506f",
   "metadata": {},
   "outputs": [
    {
     "name": "stdout",
     "output_type": "stream",
     "text": [
      "  name  score  attemps qualify\n",
      "2    C   16.5        2     yes\n",
      "5    F   20.0        3     yes\n",
      "9    J   19.0        1     yes\n"
     ]
    }
   ],
   "source": [
    "#111-1\n",
    "\n",
    "exam_data={'name':['A','B','C','D','E','F','G','H','I','J'],\n",
    "          'score':[12.5,9,16.5,np.nan,9,20,14.5,np.nan,8,19],\n",
    "           'attemps':[1,3,2,3,2,3,1,1,2,1],\n",
    "          'qua lify':['yes','no','yes','no','no','yes','yes','no','no','yes']}\n",
    "df=pd.DataFrame(exam_data)\n",
    "print(df[df['score'].between(15,20)])\n",
    "\n"
   ]
  },
  {
   "cell_type": "code",
   "execution_count": 57,
   "id": "380548d4",
   "metadata": {},
   "outputs": [
    {
     "name": "stdout",
     "output_type": "stream",
     "text": [
      "original:\n",
      "   name  score  attemps qualify\n",
      "0    A   12.5        1     yes\n",
      "1    B    9.0        3      no\n",
      "2    C   16.5        2     yes\n",
      "3    A    NaN        3      no\n",
      "4    E    9.0        2      no\n",
      "5    F   20.0        3     yes\n",
      "6    D   14.5        1     yes\n",
      "7    H    NaN        1      no\n",
      "8    F    8.0        2      no\n",
      "9    B   19.0        1     yes\n",
      "ascending:\n",
      "   name  score  attemps qualify\n",
      "7    H    NaN        1      no\n",
      "8    F    8.0        2      no\n",
      "5    F   20.0        3     yes\n",
      "4    E    9.0        2      no\n",
      "6    D   14.5        1     yes\n",
      "2    C   16.5        2     yes\n",
      "1    B    9.0        3      no\n",
      "9    B   19.0        1     yes\n",
      "0    A   12.5        1     yes\n",
      "3    A    NaN        3      no\n"
     ]
    }
   ],
   "source": [
    "#111-2\n",
    "\n",
    "exam_data={'name':['A','B','C','A','E','F','D','H','F','B'],\n",
    "          'score':[12.5,9,16.5,np.nan,9,20,14.5,np.nan,8,19],\n",
    "           'attemps':[1,3,2,3,2,3,1,1,2,1],\n",
    "          'qualify':['yes','no','yes','no','no','yes','yes','no','no','yes']}\n",
    "df=pd.DataFrame(exam_data)\n",
    "print(\"original:\\n\",df)\n",
    "print(\"ascending:\\n\",df.sort_values(by=['name','score'],ascending=[False,True]))"
   ]
  },
  {
   "cell_type": "code",
   "execution_count": 58,
   "id": "527f8861",
   "metadata": {},
   "outputs": [
    {
     "name": "stdout",
     "output_type": "stream",
     "text": [
      "  name  score  attemps  qualify\n",
      "0    A   12.5        1     True\n",
      "1    B    9.0        3    False\n",
      "2    C   16.5        2     True\n",
      "3    A    NaN        3    False\n",
      "4    E    9.0        2    False\n",
      "5    F   20.0        3     True\n",
      "6    D   14.5        1     True\n",
      "7    H    NaN        1    False\n",
      "8    F    8.0        2    False\n",
      "9    B   19.0        1     True\n"
     ]
    }
   ],
   "source": [
    "#112\n",
    "\n",
    "\n",
    "exam_data={'name':['A','B','C','A','E','F','D','H','F','B'],\n",
    "          'score':[12.5,9,16.5,np.nan,9,20,14.5,np.nan,8,19],\n",
    "           'attemps':[1,3,2,3,2,3,1,1,2,1],\n",
    "          'qualify':['yes','no','yes','no','no','yes','yes','no','no','yes']}\n",
    "df=pd.DataFrame(exam_data)\n",
    "\n",
    "df['qualify']=df['qualify'].map({'yes':True,'no':False})\n",
    "print(df)"
   ]
  },
  {
   "cell_type": "code",
   "execution_count": 60,
   "id": "afa22c87",
   "metadata": {},
   "outputs": [
    {
     "name": "stdout",
     "output_type": "stream",
     "text": [
      "  name  score  attemps qualify\n",
      "0    A   12.5        1     yes\n",
      "1    B    9.0        3      no\n",
      "2    C   16.5        2     yes\n",
      "3    A    0.0        3      no\n",
      "4    E    9.0        2      no\n",
      "5    F   20.0        3     yes\n",
      "6    D   14.5        1     yes\n",
      "7    H    0.0        1      no\n",
      "8    F    8.0        2      no\n",
      "9    B   19.0        1     yes\n"
     ]
    }
   ],
   "source": [
    "#113\n",
    "\n",
    "\n",
    "exam_data={'name':['A','B','C','A','E','F','D','H','F','B'],\n",
    "          'score':[12.5,9,16.5,np.nan,9,20,14.5,np.nan,8,19],\n",
    "           'attemps':[1,3,2,3,2,3,1,1,2,1],\n",
    "          'qualify':['yes','no','yes','no','no','yes','yes','no','no','yes']}\n",
    "df=pd.DataFrame(exam_data)\n",
    "df=df.fillna(0)\n",
    "print(df)"
   ]
  },
  {
   "cell_type": "code",
   "execution_count": 63,
   "id": "1f8e7aea",
   "metadata": {},
   "outputs": [
    {
     "name": "stdout",
     "output_type": "stream",
     "text": [
      "original\n",
      "    col1  col2  col3\n",
      "0     1     4     7\n",
      "1     4     5     8\n",
      "2     3     6     9\n",
      "3     4     7     0\n",
      "4     5     8     1\n",
      "remove\n",
      "    col1  col2  col3\n",
      "0     1     4     7\n",
      "1     4     5     8\n",
      "3     4     7     0\n"
     ]
    }
   ],
   "source": [
    "#114-1\n",
    "\n",
    "d={'col1':[1,4,3,4,5],'col2':[4,5,6,7,8],'col3':[7,8,9,0,1]}\n",
    "df=pd.DataFrame(d)\n",
    "print(\"original\\n\",df)\n",
    "df=df.drop(df.index[[2,4]])\n",
    "print(\"remove\\n\",df)\n"
   ]
  },
  {
   "cell_type": "code",
   "execution_count": 66,
   "id": "509c5b15",
   "metadata": {},
   "outputs": [
    {
     "name": "stdout",
     "output_type": "stream",
     "text": [
      "        0      1\n",
      "0     100     10\n",
      "1     200     20\n",
      "2  python    php\n",
      "3  300.12  30.12\n",
      "4     400     40\n"
     ]
    }
   ],
   "source": [
    "#114-2\n",
    "ii\n",
    "s1=pd.Series(['100','200','python','300.12','400'])\n",
    "s2=pd.Series(['10','20','php','30.12','40'])\n",
    "\n",
    "df=pd.concat([s1,s2],axis=1)\n",
    "print(df)"
   ]
  },
  {
   "cell_type": "code",
   "execution_count": 69,
   "id": "14a8515d",
   "metadata": {},
   "outputs": [
    {
     "name": "stdout",
     "output_type": "stream",
     "text": [
      "originl\n",
      "   col1  col2\n",
      "0   c1     1\n",
      "1   c1     2\n",
      "2   c2     3\n",
      "3   c2     3\n",
      "4   c2     4\n",
      "5   c3     6\n",
      "6   c2     5\n",
      "col1\n",
      "c1          [1, 2]\n",
      "c2    [3, 3, 4, 5]\n",
      "c3             [6]\n",
      "Name: col2, dtype: object\n"
     ]
    }
   ],
   "source": [
    "#115\n",
    "df=pd.DataFrame({'col1':['c1','c1','c2','c2','c2','c3','c2'],'col2':[1,2,3,3,4,6,5]})\n",
    "print(\"originl\\n\",df)\n",
    "df=df.groupby('col1')['col2'].apply(list)\n",
    "print(df)"
   ]
  },
  {
   "cell_type": "code",
   "execution_count": 72,
   "id": "ef3645f8",
   "metadata": {},
   "outputs": [
    {
     "name": "stdout",
     "output_type": "stream",
     "text": [
      "original\n",
      "       w     x   y   z\n",
      "0  68.0  78.0  84  86\n",
      "1  75.0  85.0  94  97\n",
      "2  86.0   NaN  89  96\n",
      "3  80.0  80.0  83  72\n",
      "4   NaN  86.0  86  83 \n",
      "       w   x   y   z\n",
      "0  78.0  78  84  86\n",
      "1  75.0  85  84  97\n",
      "2  86.0  96  89  96\n",
      "3  80.0  80  83  72\n",
      "4   NaN  76  86  83\n",
      "       w      x      y      z\n",
      "0   True  False  False  False\n",
      "1  False  False   True  False\n",
      "2  False   True  False  False\n",
      "3  False  False  False  False\n",
      "4   True   True  False  False\n"
     ]
    }
   ],
   "source": [
    "#116\n",
    "df1=pd.DataFrame({'w':[68,75,86,80,None],'x':[78,85,None,80,86],'y':[84,94,89,83,86],'z':[86,97,96,72,83]})\n",
    "df2=pd.DataFrame({'w':[78,75,86,80,None],'x':[78,85,96,80,76],'y':[84,84,89,83,86],'z':[86,97,96,72,83]})\n",
    "print(\"original\\n\",df1,\"\\n\",df2)\n",
    "print(df1.ne(df2))"
   ]
  },
  {
   "cell_type": "code",
   "execution_count": 9,
   "id": "7e2ac0c9",
   "metadata": {},
   "outputs": [
    {
     "name": "stderr",
     "output_type": "stream",
     "text": [
      "C:\\Users\\acer\\AppData\\Local\\Temp\\ipykernel_4496\\2354584772.py:5: FutureWarning: pivot_table dropped a column because it failed to aggregate. This behavior is deprecated and will raise in a future version of pandas. Select only the columns that can be aggregated.\n",
      "  pd.pivot_table(df, index = ['a','b','c','d','e',5,6,7,8,9,10,11,12,13])\n"
     ]
    },
    {
     "data": {
      "text/html": [
       "<div>\n",
       "<style scoped>\n",
       "    .dataframe tbody tr th:only-of-type {\n",
       "        vertical-align: middle;\n",
       "    }\n",
       "\n",
       "    .dataframe tbody tr th {\n",
       "        vertical-align: top;\n",
       "    }\n",
       "\n",
       "    .dataframe thead th {\n",
       "        text-align: right;\n",
       "    }\n",
       "</style>\n",
       "<table border=\"1\" class=\"dataframe\">\n",
       "  <thead>\n",
       "    <tr style=\"text-align: right;\">\n",
       "      <th></th>\n",
       "      <th>0</th>\n",
       "      <th>1</th>\n",
       "      <th>3</th>\n",
       "      <th>4.33</th>\n",
       "      <th>32</th>\n",
       "      <th>33</th>\n",
       "      <th>39</th>\n",
       "      <th>46</th>\n",
       "      <th>2016</th>\n",
       "    </tr>\n",
       "  </thead>\n",
       "  <tbody>\n",
       "    <tr>\n",
       "      <th>5</th>\n",
       "      <td>0.05</td>\n",
       "      <td>1</td>\n",
       "      <td>3</td>\n",
       "      <td>16.46</td>\n",
       "      <td>24</td>\n",
       "      <td>9</td>\n",
       "      <td>30</td>\n",
       "      <td>36</td>\n",
       "      <td>2016</td>\n",
       "    </tr>\n",
       "    <tr>\n",
       "      <th>6</th>\n",
       "      <td>0.15</td>\n",
       "      <td>1</td>\n",
       "      <td>3</td>\n",
       "      <td>3.10</td>\n",
       "      <td>9</td>\n",
       "      <td>2</td>\n",
       "      <td>22</td>\n",
       "      <td>32</td>\n",
       "      <td>2016</td>\n",
       "    </tr>\n",
       "    <tr>\n",
       "      <th>7</th>\n",
       "      <td>0.60</td>\n",
       "      <td>1</td>\n",
       "      <td>3</td>\n",
       "      <td>9.10</td>\n",
       "      <td>31</td>\n",
       "      <td>20</td>\n",
       "      <td>34</td>\n",
       "      <td>36</td>\n",
       "      <td>2016</td>\n",
       "    </tr>\n",
       "    <tr>\n",
       "      <th>8</th>\n",
       "      <td>2.15</td>\n",
       "      <td>1</td>\n",
       "      <td>3</td>\n",
       "      <td>9.76</td>\n",
       "      <td>33</td>\n",
       "      <td>9</td>\n",
       "      <td>38</td>\n",
       "      <td>43</td>\n",
       "      <td>2016</td>\n",
       "    </tr>\n",
       "    <tr>\n",
       "      <th>9</th>\n",
       "      <td>0.00</td>\n",
       "      <td>1</td>\n",
       "      <td>3</td>\n",
       "      <td>17.90</td>\n",
       "      <td>23</td>\n",
       "      <td>14</td>\n",
       "      <td>31</td>\n",
       "      <td>39</td>\n",
       "      <td>2016</td>\n",
       "    </tr>\n",
       "    <tr>\n",
       "      <th>10</th>\n",
       "      <td>0.00</td>\n",
       "      <td>1</td>\n",
       "      <td>3</td>\n",
       "      <td>2.20</td>\n",
       "      <td>4</td>\n",
       "      <td>2</td>\n",
       "      <td>14</td>\n",
       "      <td>30</td>\n",
       "      <td>2016</td>\n",
       "    </tr>\n",
       "    <tr>\n",
       "      <th>11</th>\n",
       "      <td>0.02</td>\n",
       "      <td>1</td>\n",
       "      <td>3</td>\n",
       "      <td>8.23</td>\n",
       "      <td>19</td>\n",
       "      <td>14</td>\n",
       "      <td>27</td>\n",
       "      <td>34</td>\n",
       "      <td>2016</td>\n",
       "    </tr>\n",
       "    <tr>\n",
       "      <th>12</th>\n",
       "      <td>1.22</td>\n",
       "      <td>1</td>\n",
       "      <td>3</td>\n",
       "      <td>11.26</td>\n",
       "      <td>35</td>\n",
       "      <td>9</td>\n",
       "      <td>39</td>\n",
       "      <td>42</td>\n",
       "      <td>2016</td>\n",
       "    </tr>\n",
       "    <tr>\n",
       "      <th>13</th>\n",
       "      <td>0.00</td>\n",
       "      <td>1</td>\n",
       "      <td>3</td>\n",
       "      <td>19.76</td>\n",
       "      <td>37</td>\n",
       "      <td>9</td>\n",
       "      <td>40</td>\n",
       "      <td>42</td>\n",
       "      <td>2016</td>\n",
       "    </tr>\n",
       "    <tr>\n",
       "      <th>a</th>\n",
       "      <td>0.00</td>\n",
       "      <td>1</td>\n",
       "      <td>3</td>\n",
       "      <td>3.86</td>\n",
       "      <td>31</td>\n",
       "      <td>32</td>\n",
       "      <td>39</td>\n",
       "      <td>47</td>\n",
       "      <td>2016</td>\n",
       "    </tr>\n",
       "    <tr>\n",
       "      <th>b</th>\n",
       "      <td>0.16</td>\n",
       "      <td>1</td>\n",
       "      <td>3</td>\n",
       "      <td>9.73</td>\n",
       "      <td>41</td>\n",
       "      <td>35</td>\n",
       "      <td>46</td>\n",
       "      <td>51</td>\n",
       "      <td>2016</td>\n",
       "    </tr>\n",
       "    <tr>\n",
       "      <th>c</th>\n",
       "      <td>0.00</td>\n",
       "      <td>1</td>\n",
       "      <td>3</td>\n",
       "      <td>6.86</td>\n",
       "      <td>38</td>\n",
       "      <td>32</td>\n",
       "      <td>45</td>\n",
       "      <td>52</td>\n",
       "      <td>2016</td>\n",
       "    </tr>\n",
       "    <tr>\n",
       "      <th>d</th>\n",
       "      <td>0.01</td>\n",
       "      <td>1</td>\n",
       "      <td>3</td>\n",
       "      <td>7.80</td>\n",
       "      <td>29</td>\n",
       "      <td>19</td>\n",
       "      <td>34</td>\n",
       "      <td>38</td>\n",
       "      <td>2016</td>\n",
       "    </tr>\n",
       "    <tr>\n",
       "      <th>e</th>\n",
       "      <td>0.09</td>\n",
       "      <td>1</td>\n",
       "      <td>3</td>\n",
       "      <td>8.70</td>\n",
       "      <td>31</td>\n",
       "      <td>9</td>\n",
       "      <td>38</td>\n",
       "      <td>44</td>\n",
       "      <td>2016</td>\n",
       "    </tr>\n",
       "  </tbody>\n",
       "</table>\n",
       "</div>"
      ],
      "text/plain": [
       "       0  1  3   4.33  32  33  39  46  2016\n",
       "5   0.05  1  3  16.46  24   9  30  36  2016\n",
       "6   0.15  1  3   3.10   9   2  22  32  2016\n",
       "7   0.60  1  3   9.10  31  20  34  36  2016\n",
       "8   2.15  1  3   9.76  33   9  38  43  2016\n",
       "9   0.00  1  3  17.90  23  14  31  39  2016\n",
       "10  0.00  1  3   2.20   4   2  14  30  2016\n",
       "11  0.02  1  3   8.23  19  14  27  34  2016\n",
       "12  1.22  1  3  11.26  35   9  39  42  2016\n",
       "13  0.00  1  3  19.76  37   9  40  42  2016\n",
       "a   0.00  1  3   3.86  31  32  39  47  2016\n",
       "b   0.16  1  3   9.73  41  35  46  51  2016\n",
       "c   0.00  1  3   6.86  38  32  45  52  2016\n",
       "d   0.01  1  3   7.80  29  19  34  38  2016\n",
       "e   0.09  1  3   8.70  31   9  38  44  2016"
      ]
     },
     "execution_count": 9,
     "metadata": {},
     "output_type": "execute_result"
    }
   ],
   "source": [
    "#117\n",
    "import pandas as pd\n",
    "df = pd.read_excel(\"hava(1).xlsx\")\n",
    "df\n",
    "pd.pivot_table(df, index = ['a','b','c','d','e',5,6,7,8,9,10,11,12,13])"
   ]
  },
  {
   "cell_type": "code",
   "execution_count": 83,
   "id": "5e53ebcf",
   "metadata": {},
   "outputs": [
    {
     "name": "stdout",
     "output_type": "stream",
     "text": [
      "originl Index(['  green', 'Black   ', '  red   ', 'white', '  pink  '], dtype='object')\n",
      "remove white space Index(['green', 'Black', 'red', 'white', 'pink'], dtype='object')\n",
      "remove left white space Index(['green', 'Black   ', 'red   ', 'white', 'pink  '], dtype='object')\n",
      "remove right white space Index(['  green', 'Black', '  red', 'white', '  pink'], dtype='object')\n"
     ]
    }
   ],
   "source": [
    ",,#117,,\n",
    "color1=pd.Index(['  green','Black   ','  red   ','white','  pink  '])\n",
    "print(\"originl\",color1)\n",
    "print(\"remove white space\",color1.str.strip())\n",
    "print(\"remove left white space\",color1.str.lstrip())\n",
    "print(\"remove right white space\",color1.str.rstrip())\n",
    ",\n",
    ",,,,,"
   ]
  },
  {
   "cell_type": "code",
   "execution_count": 87,
   "id": "f067fc96",
   "metadata": {},
   "outputs": [
    {
     "name": "stdout",
     "output_type": "stream",
     "text": [
      "\n",
      "remove\n",
      "   text_code                   text_lang               normal_text\n",
      "0    t0001.      she livedd a long life     she lived a long life\n",
      "1     t0002    how oold is your father?   how old is your father?\n",
      "2     t0003       what is tthe problem?      what is the problem?\n",
      "3     t0004  ttthe disk is used by Tom   the disk is used by Tom \n"
     ]
    }
   ],
   "source": [
    "#118-1\n",
    "import pandas as pd\n",
    "import re as re\n",
    "\n",
    "pd.set_option('display.max_columns',10)\n",
    "df=pd.DataFrame({'text_code':['t0001.','t0002','t0003','t0004'],\n",
    "                'text_lang':['she livedd a long life','how oold is your father?','what is tthe problem?','ttthe disk is used by Tom ']})\n",
    "\n",
    "def rep_char(str1):\n",
    "    tchr=str1.group(0)\n",
    "    if (len(tchr)>1):\n",
    "        return tchr[0:1]\n",
    "def unique_char(rep,sent_text):\n",
    "    convert=re.sub(r'(\\w)\\1+',rep,sent_text)\n",
    "    return convert\n",
    "\n",
    "df['normal_text']=df['text_lang'].apply(lambda x: unique_char(rep_char,x))\n",
    "print(\"\\nremove\\n\",df)"
   ]
  },
  {
   "cell_type": "code",
   "execution_count": 3,
   "id": "f16e8a4d",
   "metadata": {},
   "outputs": [
    {
     "name": "stdout",
     "output_type": "stream",
     "text": [
      "original\n",
      "   student_id name  marks\n",
      "0         s1    A    200\n",
      "1         s2    B    210\n",
      "2         s3    C    190\n",
      "3         s4    D    222\n",
      "4         s5    E    199\n",
      "dictionary\n",
      " student_id     s6\n",
      "name            F\n",
      "marks         205\n",
      "dtype: object\n",
      "combined\n",
      "   student_id name  marks\n",
      "0         s1    A    200\n",
      "1         s2    B    210\n",
      "2         s3    C    190\n",
      "3         s4    D    222\n",
      "4         s5    E    199\n",
      "5         s6    F    203\n",
      "6         s7    G    207\n"
     ]
    },
    {
     "name": "stderr",
     "output_type": "stream",
     "text": [
      "C:\\Users\\Ara-Soft\\AppData\\Local\\Temp\\ipykernel_3372\\3404808471.py:17: FutureWarning: The frame.append method is deprecated and will be removed from pandas in a future version. Use pandas.concat instead.\n",
      "  combined_data=student_data1.append(dicts,ignore_index=True,sort=False)\n"
     ]
    }
   ],
   "source": [
    "#118-2\n",
    "import pandas as pd\n",
    "\n",
    "student_data1=pd.DataFrame({\n",
    "    'student_id':['s1','s2','s3','s4','s5'],\n",
    "    'name':['A','B','C','D','E'],\n",
    "    'marks':[200,210,190,222,199]})\n",
    "\n",
    "S6=pd.Series(['s6','F',205],index=['student_id','name','marks'])\n",
    "\n",
    "dicts=[{'student_id':'s6','name':'F','marks':203},\n",
    "      {'student_id':'s7','name':'G','marks':207}]\n",
    "\n",
    "print(\"original\\n\",student_data1)\n",
    "print('dictionary\\n',S6)\n",
    "\n",
    "combined_data=student_data1.append(dicts,ignore_index=True,sort=False)\n",
    "print(\"combined\\n\",combined_data)\n"
   ]
  },
  {
   "cell_type": "code",
   "execution_count": 10,
   "id": "3626eb45",
   "metadata": {},
   "outputs": [
    {
     "name": "stdout",
     "output_type": "stream",
     "text": [
      "original \n",
      "       A         B         C         D         E\n",
      "0   1.0  1.329212       NaN -0.316280 -0.990810\n",
      "1   2.0 -1.070816 -1.438713  0.564417  0.295722\n",
      "2   3.0 -1.626404  0.219565  0.678805  1.889273\n",
      "3   4.0  0.961538  0.104011       NaN  0.850229\n",
      "4   5.0       NaN  1.057737  0.165562  0.515018\n",
      "5   6.0 -1.336936  0.562861  1.392855 -0.063328\n",
      "6   7.0  0.121668  1.207603 -0.002040  1.627796\n",
      "7   8.0  0.354493  1.037528 -0.385684  0.519818\n",
      "8   9.0  1.686583 -1.325963  1.428984 -2.089354\n",
      "9  10.0 -0.129820  0.631523 -0.586538       NaN\n",
      "\n",
      "highlight the max value in last two columns:\n"
     ]
    },
    {
     "data": {
      "text/html": [
       "<style type=\"text/css\">\n",
       "#T_0282c_row2_col4, #T_0282c_row8_col3 {\n",
       "  background-color: yellow;\n",
       "}\n",
       "</style>\n",
       "<table id=\"T_0282c\">\n",
       "  <thead>\n",
       "    <tr>\n",
       "      <th class=\"blank level0\" >&nbsp;</th>\n",
       "      <th id=\"T_0282c_level0_col0\" class=\"col_heading level0 col0\" >A</th>\n",
       "      <th id=\"T_0282c_level0_col1\" class=\"col_heading level0 col1\" >B</th>\n",
       "      <th id=\"T_0282c_level0_col2\" class=\"col_heading level0 col2\" >C</th>\n",
       "      <th id=\"T_0282c_level0_col3\" class=\"col_heading level0 col3\" >D</th>\n",
       "      <th id=\"T_0282c_level0_col4\" class=\"col_heading level0 col4\" >E</th>\n",
       "    </tr>\n",
       "  </thead>\n",
       "  <tbody>\n",
       "    <tr>\n",
       "      <th id=\"T_0282c_level0_row0\" class=\"row_heading level0 row0\" >0</th>\n",
       "      <td id=\"T_0282c_row0_col0\" class=\"data row0 col0\" >1.000000</td>\n",
       "      <td id=\"T_0282c_row0_col1\" class=\"data row0 col1\" >1.329212</td>\n",
       "      <td id=\"T_0282c_row0_col2\" class=\"data row0 col2\" >nan</td>\n",
       "      <td id=\"T_0282c_row0_col3\" class=\"data row0 col3\" >-0.316280</td>\n",
       "      <td id=\"T_0282c_row0_col4\" class=\"data row0 col4\" >-0.990810</td>\n",
       "    </tr>\n",
       "    <tr>\n",
       "      <th id=\"T_0282c_level0_row1\" class=\"row_heading level0 row1\" >1</th>\n",
       "      <td id=\"T_0282c_row1_col0\" class=\"data row1 col0\" >2.000000</td>\n",
       "      <td id=\"T_0282c_row1_col1\" class=\"data row1 col1\" >-1.070816</td>\n",
       "      <td id=\"T_0282c_row1_col2\" class=\"data row1 col2\" >-1.438713</td>\n",
       "      <td id=\"T_0282c_row1_col3\" class=\"data row1 col3\" >0.564417</td>\n",
       "      <td id=\"T_0282c_row1_col4\" class=\"data row1 col4\" >0.295722</td>\n",
       "    </tr>\n",
       "    <tr>\n",
       "      <th id=\"T_0282c_level0_row2\" class=\"row_heading level0 row2\" >2</th>\n",
       "      <td id=\"T_0282c_row2_col0\" class=\"data row2 col0\" >3.000000</td>\n",
       "      <td id=\"T_0282c_row2_col1\" class=\"data row2 col1\" >-1.626404</td>\n",
       "      <td id=\"T_0282c_row2_col2\" class=\"data row2 col2\" >0.219565</td>\n",
       "      <td id=\"T_0282c_row2_col3\" class=\"data row2 col3\" >0.678805</td>\n",
       "      <td id=\"T_0282c_row2_col4\" class=\"data row2 col4\" >1.889273</td>\n",
       "    </tr>\n",
       "    <tr>\n",
       "      <th id=\"T_0282c_level0_row3\" class=\"row_heading level0 row3\" >3</th>\n",
       "      <td id=\"T_0282c_row3_col0\" class=\"data row3 col0\" >4.000000</td>\n",
       "      <td id=\"T_0282c_row3_col1\" class=\"data row3 col1\" >0.961538</td>\n",
       "      <td id=\"T_0282c_row3_col2\" class=\"data row3 col2\" >0.104011</td>\n",
       "      <td id=\"T_0282c_row3_col3\" class=\"data row3 col3\" >nan</td>\n",
       "      <td id=\"T_0282c_row3_col4\" class=\"data row3 col4\" >0.850229</td>\n",
       "    </tr>\n",
       "    <tr>\n",
       "      <th id=\"T_0282c_level0_row4\" class=\"row_heading level0 row4\" >4</th>\n",
       "      <td id=\"T_0282c_row4_col0\" class=\"data row4 col0\" >5.000000</td>\n",
       "      <td id=\"T_0282c_row4_col1\" class=\"data row4 col1\" >nan</td>\n",
       "      <td id=\"T_0282c_row4_col2\" class=\"data row4 col2\" >1.057737</td>\n",
       "      <td id=\"T_0282c_row4_col3\" class=\"data row4 col3\" >0.165562</td>\n",
       "      <td id=\"T_0282c_row4_col4\" class=\"data row4 col4\" >0.515018</td>\n",
       "    </tr>\n",
       "    <tr>\n",
       "      <th id=\"T_0282c_level0_row5\" class=\"row_heading level0 row5\" >5</th>\n",
       "      <td id=\"T_0282c_row5_col0\" class=\"data row5 col0\" >6.000000</td>\n",
       "      <td id=\"T_0282c_row5_col1\" class=\"data row5 col1\" >-1.336936</td>\n",
       "      <td id=\"T_0282c_row5_col2\" class=\"data row5 col2\" >0.562861</td>\n",
       "      <td id=\"T_0282c_row5_col3\" class=\"data row5 col3\" >1.392855</td>\n",
       "      <td id=\"T_0282c_row5_col4\" class=\"data row5 col4\" >-0.063328</td>\n",
       "    </tr>\n",
       "    <tr>\n",
       "      <th id=\"T_0282c_level0_row6\" class=\"row_heading level0 row6\" >6</th>\n",
       "      <td id=\"T_0282c_row6_col0\" class=\"data row6 col0\" >7.000000</td>\n",
       "      <td id=\"T_0282c_row6_col1\" class=\"data row6 col1\" >0.121668</td>\n",
       "      <td id=\"T_0282c_row6_col2\" class=\"data row6 col2\" >1.207603</td>\n",
       "      <td id=\"T_0282c_row6_col3\" class=\"data row6 col3\" >-0.002040</td>\n",
       "      <td id=\"T_0282c_row6_col4\" class=\"data row6 col4\" >1.627796</td>\n",
       "    </tr>\n",
       "    <tr>\n",
       "      <th id=\"T_0282c_level0_row7\" class=\"row_heading level0 row7\" >7</th>\n",
       "      <td id=\"T_0282c_row7_col0\" class=\"data row7 col0\" >8.000000</td>\n",
       "      <td id=\"T_0282c_row7_col1\" class=\"data row7 col1\" >0.354493</td>\n",
       "      <td id=\"T_0282c_row7_col2\" class=\"data row7 col2\" >1.037528</td>\n",
       "      <td id=\"T_0282c_row7_col3\" class=\"data row7 col3\" >-0.385684</td>\n",
       "      <td id=\"T_0282c_row7_col4\" class=\"data row7 col4\" >0.519818</td>\n",
       "    </tr>\n",
       "    <tr>\n",
       "      <th id=\"T_0282c_level0_row8\" class=\"row_heading level0 row8\" >8</th>\n",
       "      <td id=\"T_0282c_row8_col0\" class=\"data row8 col0\" >9.000000</td>\n",
       "      <td id=\"T_0282c_row8_col1\" class=\"data row8 col1\" >1.686583</td>\n",
       "      <td id=\"T_0282c_row8_col2\" class=\"data row8 col2\" >-1.325963</td>\n",
       "      <td id=\"T_0282c_row8_col3\" class=\"data row8 col3\" >1.428984</td>\n",
       "      <td id=\"T_0282c_row8_col4\" class=\"data row8 col4\" >-2.089354</td>\n",
       "    </tr>\n",
       "    <tr>\n",
       "      <th id=\"T_0282c_level0_row9\" class=\"row_heading level0 row9\" >9</th>\n",
       "      <td id=\"T_0282c_row9_col0\" class=\"data row9 col0\" >10.000000</td>\n",
       "      <td id=\"T_0282c_row9_col1\" class=\"data row9 col1\" >-0.129820</td>\n",
       "      <td id=\"T_0282c_row9_col2\" class=\"data row9 col2\" >0.631523</td>\n",
       "      <td id=\"T_0282c_row9_col3\" class=\"data row9 col3\" >-0.586538</td>\n",
       "      <td id=\"T_0282c_row9_col4\" class=\"data row9 col4\" >nan</td>\n",
       "    </tr>\n",
       "  </tbody>\n",
       "</table>\n"
      ],
      "text/plain": [
       "<pandas.io.formats.style.Styler at 0x15934cea050>"
      ]
     },
     "execution_count": 10,
     "metadata": {},
     "output_type": "execute_result"
    }
   ],
   "source": [
    "#120\n",
    "\n",
    "import pandas as pd\n",
    "import numpy as np\n",
    "\n",
    "np.random.seed(24)\n",
    "df=pd.DataFrame({'A':np.linspace(1,10,10)})\n",
    "df=pd.concat([df,pd.DataFrame(np.random.randn(10,4),columns=list('BCDE'))],axis=1)\n",
    "\n",
    "df.iloc[0,2]=np.nan\n",
    "df.iloc[3,3]=np.nan\n",
    "df.iloc[4,1]=np.nan\n",
    "df.iloc[9,4]=np.nan\n",
    "print(\"original \\n\",df)\n",
    "\n",
    "def highlight_max(s):\n",
    "    '''highlight the maximum in a Series yellow '''\n",
    "    is_max=s==s.max()\n",
    "    return ['background-color:yellow' if v else '' for v in is_max]\n",
    "\n",
    "print(\"\\nhighlight the max value in last two columns:\")\n",
    "df.style.apply(highlight_max,subset=pd.IndexSlice[:,['D','E']])"
   ]
  },
  {
   "cell_type": "code",
   "execution_count": 1,
   "id": "14271629",
   "metadata": {},
   "outputs": [
    {
     "name": "stdout",
     "output_type": "stream",
     "text": [
      "original \n",
      "       A         B         C         D         E\n",
      "0   1.0  1.329212       NaN -0.316280 -0.990810\n",
      "1   2.0 -1.070816 -1.438713  0.564417  0.295722\n",
      "2   3.0 -1.626404  0.219565  0.678805  1.889273\n",
      "3   4.0  0.961538  0.104011       NaN  0.850229\n",
      "4   5.0       NaN  1.057737  0.165562  0.515018\n",
      "5   6.0 -1.336936  0.562861  1.392855 -0.063328\n",
      "6   7.0  0.121668  1.207603 -0.002040  1.627796\n",
      "7   8.0  0.354493  1.037528 -0.385684  0.519818\n",
      "8   9.0  1.686583 -1.325963  1.428984 -2.089354\n",
      "9  10.0 -0.129820  0.631523 -0.586538       NaN\n",
      "\n",
      "barchart\n",
      "\n"
     ]
    },
    {
     "data": {
      "text/html": [
       "<style type=\"text/css\">\n",
       "#T_1c584_row0_col1 {\n",
       "  width: 10em;\n",
       "  background: linear-gradient(90deg, transparent 49.1%, #fedf5f 49.1%, #fedf5f 89.2%, transparent 89.2%);\n",
       "}\n",
       "#T_1c584_row0_col2, #T_1c584_row4_col1 {\n",
       "  width: 10em;\n",
       "}\n",
       "#T_1c584_row1_col1 {\n",
       "  width: 10em;\n",
       "  background: linear-gradient(90deg, transparent 16.8%, #fedf5f 16.8%, #fedf5f 49.1%, transparent 49.1%);\n",
       "}\n",
       "#T_1c584_row1_col2 {\n",
       "  width: 10em;\n",
       "  background: linear-gradient(90deg, #fedf5f 54.4%, transparent 54.4%);\n",
       "}\n",
       "#T_1c584_row2_col1 {\n",
       "  width: 10em;\n",
       "  background: linear-gradient(90deg, #fedf5f 49.1%, transparent 49.1%);\n",
       "}\n",
       "#T_1c584_row2_col2 {\n",
       "  width: 10em;\n",
       "  background: linear-gradient(90deg, transparent 54.4%, #fedf5f 54.4%, #fedf5f 62.7%, transparent 62.7%);\n",
       "}\n",
       "#T_1c584_row3_col1 {\n",
       "  width: 10em;\n",
       "  background: linear-gradient(90deg, transparent 49.1%, #fedf5f 49.1%, #fedf5f 78.1%, transparent 78.1%);\n",
       "}\n",
       "#T_1c584_row3_col2 {\n",
       "  width: 10em;\n",
       "  background: linear-gradient(90deg, transparent 54.4%, #fedf5f 54.4%, #fedf5f 58.3%, transparent 58.3%);\n",
       "}\n",
       "#T_1c584_row4_col2 {\n",
       "  width: 10em;\n",
       "  background: linear-gradient(90deg, transparent 54.4%, #fedf5f 54.4%, #fedf5f 94.3%, transparent 94.3%);\n",
       "}\n",
       "#T_1c584_row5_col1 {\n",
       "  width: 10em;\n",
       "  background: linear-gradient(90deg, transparent 8.7%, #fedf5f 8.7%, #fedf5f 49.1%, transparent 49.1%);\n",
       "}\n",
       "#T_1c584_row5_col2 {\n",
       "  width: 10em;\n",
       "  background: linear-gradient(90deg, transparent 54.4%, #fedf5f 54.4%, #fedf5f 75.6%, transparent 75.6%);\n",
       "}\n",
       "#T_1c584_row6_col1 {\n",
       "  width: 10em;\n",
       "  background: linear-gradient(90deg, transparent 49.1%, #fedf5f 49.1%, #fedf5f 52.8%, transparent 52.8%);\n",
       "}\n",
       "#T_1c584_row6_col2 {\n",
       "  width: 10em;\n",
       "  background: linear-gradient(90deg, transparent 54.4%, #fedf5f 54.4%, #fedf5f 100.0%, transparent 100.0%);\n",
       "}\n",
       "#T_1c584_row7_col1 {\n",
       "  width: 10em;\n",
       "  background: linear-gradient(90deg, transparent 49.1%, #fedf5f 49.1%, #fedf5f 59.8%, transparent 59.8%);\n",
       "}\n",
       "#T_1c584_row7_col2 {\n",
       "  width: 10em;\n",
       "  background: linear-gradient(90deg, transparent 54.4%, #fedf5f 54.4%, #fedf5f 93.6%, transparent 93.6%);\n",
       "}\n",
       "#T_1c584_row8_col1 {\n",
       "  width: 10em;\n",
       "  background: linear-gradient(90deg, transparent 49.1%, #fedf5f 49.1%, #fedf5f 100.0%, transparent 100.0%);\n",
       "}\n",
       "#T_1c584_row8_col2 {\n",
       "  width: 10em;\n",
       "  background: linear-gradient(90deg, transparent 4.3%, #fedf5f 4.3%, #fedf5f 54.4%, transparent 54.4%);\n",
       "}\n",
       "#T_1c584_row9_col1 {\n",
       "  width: 10em;\n",
       "  background: linear-gradient(90deg, transparent 45.2%, #fedf5f 45.2%, #fedf5f 49.1%, transparent 49.1%);\n",
       "}\n",
       "#T_1c584_row9_col2 {\n",
       "  width: 10em;\n",
       "  background: linear-gradient(90deg, transparent 54.4%, #fedf5f 54.4%, #fedf5f 78.2%, transparent 78.2%);\n",
       "}\n",
       "</style>\n",
       "<table id=\"T_1c584\">\n",
       "  <thead>\n",
       "    <tr>\n",
       "      <th class=\"blank level0\" >&nbsp;</th>\n",
       "      <th id=\"T_1c584_level0_col0\" class=\"col_heading level0 col0\" >A</th>\n",
       "      <th id=\"T_1c584_level0_col1\" class=\"col_heading level0 col1\" >B</th>\n",
       "      <th id=\"T_1c584_level0_col2\" class=\"col_heading level0 col2\" >C</th>\n",
       "      <th id=\"T_1c584_level0_col3\" class=\"col_heading level0 col3\" >D</th>\n",
       "      <th id=\"T_1c584_level0_col4\" class=\"col_heading level0 col4\" >E</th>\n",
       "    </tr>\n",
       "  </thead>\n",
       "  <tbody>\n",
       "    <tr>\n",
       "      <th id=\"T_1c584_level0_row0\" class=\"row_heading level0 row0\" >0</th>\n",
       "      <td id=\"T_1c584_row0_col0\" class=\"data row0 col0\" >1.000000</td>\n",
       "      <td id=\"T_1c584_row0_col1\" class=\"data row0 col1\" >1.329212</td>\n",
       "      <td id=\"T_1c584_row0_col2\" class=\"data row0 col2\" >nan</td>\n",
       "      <td id=\"T_1c584_row0_col3\" class=\"data row0 col3\" >-0.316280</td>\n",
       "      <td id=\"T_1c584_row0_col4\" class=\"data row0 col4\" >-0.990810</td>\n",
       "    </tr>\n",
       "    <tr>\n",
       "      <th id=\"T_1c584_level0_row1\" class=\"row_heading level0 row1\" >1</th>\n",
       "      <td id=\"T_1c584_row1_col0\" class=\"data row1 col0\" >2.000000</td>\n",
       "      <td id=\"T_1c584_row1_col1\" class=\"data row1 col1\" >-1.070816</td>\n",
       "      <td id=\"T_1c584_row1_col2\" class=\"data row1 col2\" >-1.438713</td>\n",
       "      <td id=\"T_1c584_row1_col3\" class=\"data row1 col3\" >0.564417</td>\n",
       "      <td id=\"T_1c584_row1_col4\" class=\"data row1 col4\" >0.295722</td>\n",
       "    </tr>\n",
       "    <tr>\n",
       "      <th id=\"T_1c584_level0_row2\" class=\"row_heading level0 row2\" >2</th>\n",
       "      <td id=\"T_1c584_row2_col0\" class=\"data row2 col0\" >3.000000</td>\n",
       "      <td id=\"T_1c584_row2_col1\" class=\"data row2 col1\" >-1.626404</td>\n",
       "      <td id=\"T_1c584_row2_col2\" class=\"data row2 col2\" >0.219565</td>\n",
       "      <td id=\"T_1c584_row2_col3\" class=\"data row2 col3\" >0.678805</td>\n",
       "      <td id=\"T_1c584_row2_col4\" class=\"data row2 col4\" >1.889273</td>\n",
       "    </tr>\n",
       "    <tr>\n",
       "      <th id=\"T_1c584_level0_row3\" class=\"row_heading level0 row3\" >3</th>\n",
       "      <td id=\"T_1c584_row3_col0\" class=\"data row3 col0\" >4.000000</td>\n",
       "      <td id=\"T_1c584_row3_col1\" class=\"data row3 col1\" >0.961538</td>\n",
       "      <td id=\"T_1c584_row3_col2\" class=\"data row3 col2\" >0.104011</td>\n",
       "      <td id=\"T_1c584_row3_col3\" class=\"data row3 col3\" >nan</td>\n",
       "      <td id=\"T_1c584_row3_col4\" class=\"data row3 col4\" >0.850229</td>\n",
       "    </tr>\n",
       "    <tr>\n",
       "      <th id=\"T_1c584_level0_row4\" class=\"row_heading level0 row4\" >4</th>\n",
       "      <td id=\"T_1c584_row4_col0\" class=\"data row4 col0\" >5.000000</td>\n",
       "      <td id=\"T_1c584_row4_col1\" class=\"data row4 col1\" >nan</td>\n",
       "      <td id=\"T_1c584_row4_col2\" class=\"data row4 col2\" >1.057737</td>\n",
       "      <td id=\"T_1c584_row4_col3\" class=\"data row4 col3\" >0.165562</td>\n",
       "      <td id=\"T_1c584_row4_col4\" class=\"data row4 col4\" >0.515018</td>\n",
       "    </tr>\n",
       "    <tr>\n",
       "      <th id=\"T_1c584_level0_row5\" class=\"row_heading level0 row5\" >5</th>\n",
       "      <td id=\"T_1c584_row5_col0\" class=\"data row5 col0\" >6.000000</td>\n",
       "      <td id=\"T_1c584_row5_col1\" class=\"data row5 col1\" >-1.336936</td>\n",
       "      <td id=\"T_1c584_row5_col2\" class=\"data row5 col2\" >0.562861</td>\n",
       "      <td id=\"T_1c584_row5_col3\" class=\"data row5 col3\" >1.392855</td>\n",
       "      <td id=\"T_1c584_row5_col4\" class=\"data row5 col4\" >-0.063328</td>\n",
       "    </tr>\n",
       "    <tr>\n",
       "      <th id=\"T_1c584_level0_row6\" class=\"row_heading level0 row6\" >6</th>\n",
       "      <td id=\"T_1c584_row6_col0\" class=\"data row6 col0\" >7.000000</td>\n",
       "      <td id=\"T_1c584_row6_col1\" class=\"data row6 col1\" >0.121668</td>\n",
       "      <td id=\"T_1c584_row6_col2\" class=\"data row6 col2\" >1.207603</td>\n",
       "      <td id=\"T_1c584_row6_col3\" class=\"data row6 col3\" >-0.002040</td>\n",
       "      <td id=\"T_1c584_row6_col4\" class=\"data row6 col4\" >1.627796</td>\n",
       "    </tr>\n",
       "    <tr>\n",
       "      <th id=\"T_1c584_level0_row7\" class=\"row_heading level0 row7\" >7</th>\n",
       "      <td id=\"T_1c584_row7_col0\" class=\"data row7 col0\" >8.000000</td>\n",
       "      <td id=\"T_1c584_row7_col1\" class=\"data row7 col1\" >0.354493</td>\n",
       "      <td id=\"T_1c584_row7_col2\" class=\"data row7 col2\" >1.037528</td>\n",
       "      <td id=\"T_1c584_row7_col3\" class=\"data row7 col3\" >-0.385684</td>\n",
       "      <td id=\"T_1c584_row7_col4\" class=\"data row7 col4\" >0.519818</td>\n",
       "    </tr>\n",
       "    <tr>\n",
       "      <th id=\"T_1c584_level0_row8\" class=\"row_heading level0 row8\" >8</th>\n",
       "      <td id=\"T_1c584_row8_col0\" class=\"data row8 col0\" >9.000000</td>\n",
       "      <td id=\"T_1c584_row8_col1\" class=\"data row8 col1\" >1.686583</td>\n",
       "      <td id=\"T_1c584_row8_col2\" class=\"data row8 col2\" >-1.325963</td>\n",
       "      <td id=\"T_1c584_row8_col3\" class=\"data row8 col3\" >1.428984</td>\n",
       "      <td id=\"T_1c584_row8_col4\" class=\"data row8 col4\" >-2.089354</td>\n",
       "    </tr>\n",
       "    <tr>\n",
       "      <th id=\"T_1c584_level0_row9\" class=\"row_heading level0 row9\" >9</th>\n",
       "      <td id=\"T_1c584_row9_col0\" class=\"data row9 col0\" >10.000000</td>\n",
       "      <td id=\"T_1c584_row9_col1\" class=\"data row9 col1\" >-0.129820</td>\n",
       "      <td id=\"T_1c584_row9_col2\" class=\"data row9 col2\" >0.631523</td>\n",
       "      <td id=\"T_1c584_row9_col3\" class=\"data row9 col3\" >-0.586538</td>\n",
       "      <td id=\"T_1c584_row9_col4\" class=\"data row9 col4\" >nan</td>\n",
       "    </tr>\n",
       "  </tbody>\n",
       "</table>\n"
      ],
      "text/plain": [
       "<pandas.io.formats.style.Styler at 0x12c3e5c22c0>"
      ]
     },
     "execution_count": 1,
     "metadata": {},
     "output_type": "execute_result"
    }
   ],
   "source": [
    "#121\n",
    "\n",
    "import pandas as pd\n",
    "import numpy as np\n",
    "\n",
    "np.random.seed(24)\n",
    "df=pd.DataFrame({'A':np.linspace(1,10,10)})\n",
    "df=pd.concat([df,pd.DataFrame(np.random.randn(10,4),columns=list('BCDE'))],axis=1)\n",
    "\n",
    "df.iloc[0,2]=np.nan\n",
    "df.iloc[3,3]=np.nan\n",
    "df.iloc[4,1]=np.nan\n",
    "df.iloc[9,4]=np.nan\n",
    "print(\"original \\n\",df)\n",
    "\n",
    "print(\"\\nbarchart\\n\")\n",
    "df.style.bar(subset=['B','C'],color='#fedf5f')"
   ]
  },
  {
   "cell_type": "code",
   "execution_count": 3,
   "id": "f4d99b4b",
   "metadata": {},
   "outputs": [
    {
     "name": "stdout",
     "output_type": "stream",
     "text": [
      "         apple  orange  banana  pear\n",
      "basket1     10      20      30    40\n",
      "basket2      7      14      21    28\n",
      "basket3     55      15       8    12\n",
      "basket4     15      14       1     8\n",
      "basket5      7       1       1     8\n",
      "basket6      5       4       9     2\n",
      "correlation\n",
      "\n",
      "           apple    orange    banana      pear\n",
      "apple   1.000000  0.341959 -0.180874 -0.125364\n",
      "orange  0.341959  1.000000  0.646122  0.737144\n",
      "banana -0.180874  0.646122  1.000000  0.918606\n",
      "pear   -0.125364  0.737144  0.918606  1.000000\n",
      "correlation\n",
      "\n",
      "apple     0.973359\n",
      "orange    0.354993\n",
      "banana    0.920872\n",
      "pear      0.076919\n",
      "dtype: float64\n"
     ]
    }
   ],
   "source": [
    "#122\n",
    "\n",
    "df1=pd.DataFrame([[10,20,30,40],[7,14,21,28],[55,15,8,12],[15,14,1,8],[7,1,1,8],[5,4,9,2]],\n",
    "                columns=['apple','orange','banana','pear'],\n",
    "                index=['basket1','basket2','basket3','basket4','basket5','basket6'])\n",
    "print(df1)\n",
    "print(\"correlation\\n\")\n",
    "print(df1.corr())\n",
    "\n",
    "df2=pd.DataFrame([[10,54,58,41],[14,24,51,78],[55,15,8,12],[15,14,1,8],[7,17,18,98],[15,34,29,52]],\n",
    "                columns=['apple','orange','banana','pear'],\n",
    "                index=['basket1','basket2','basket3','basket4','basket5','basket6'])\n",
    "print(\"correlation\\n\")\n",
    "print(df2.corrwith(other = df1))"
   ]
  },
  {
   "cell_type": "code",
   "execution_count": 12,
   "id": "22be92d5",
   "metadata": {},
   "outputs": [
    {
     "name": "stdout",
     "output_type": "stream",
     "text": [
      "dataframe values:\n",
      "          apple  orange  banana  pear\n",
      "basket1     10      20      30    40\n",
      "basket2      7      14      21    28\n",
      "basket3      5       5       0     0\n",
      "dataframe values by rank:\n",
      "          apple  orange  banana  pear\n",
      "basket1    3.0     3.0     3.0   3.0\n",
      "basket2    2.0     2.0     2.0   2.0\n",
      "basket3    1.0     1.0     1.0   1.0\n"
     ]
    }
   ],
   "source": [
    "#123\n",
    "df=pd.DataFrame([[10,20,30,40],[7,14,21,28],[5,5,0,0]],\n",
    "                columns=['apple','orange','banana','pear'],\n",
    "                index=['basket1','basket2','basket3'])\n",
    "print(\"dataframe values:\\n\",df)\n",
    "print(\"dataframe values by rank:\\n\",df.rank())\n"
   ]
  },
  {
   "cell_type": "code",
   "execution_count": null,
   "id": "231daed3",
   "metadata": {},
   "outputs": [],
   "source": []
  }
 ],
 "metadata": {
  "kernelspec": {
   "display_name": "Python 3 (ipykernel)",
   "language": "python",
   "name": "python3"
  },
  "language_info": {
   "codemirror_mode": {
    "name": "ipython",
    "version": 3
   },
   "file_extension": ".py",
   "mimetype": "text/x-python",
   "name": "python",
   "nbconvert_exporter": "python",
   "pygments_lexer": "ipython3",
   "version": "3.11.5"
  }
 },
 "nbformat": 4,
 "nbformat_minor": 5
}
